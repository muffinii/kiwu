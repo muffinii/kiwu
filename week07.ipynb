{
  "nbformat": 4,
  "nbformat_minor": 0,
  "metadata": {
    "colab": {
      "provenance": []
    },
    "kernelspec": {
      "name": "python3",
      "display_name": "Python 3"
    },
    "language_info": {
      "name": "python"
    }
  },
  "cells": [
    {
      "cell_type": "code",
      "execution_count": 2,
      "metadata": {
        "colab": {
          "base_uri": "https://localhost:8080/"
        },
        "id": "YboTIcqvUl6G",
        "outputId": "bdf19e0d-1dcb-41ad-94a7-cfdcc6965a34"
      },
      "outputs": [
        {
          "output_type": "stream",
          "name": "stdout",
          "text": [
            "pip 24.1.2 from /usr/local/lib/python3.12/dist-packages/pip (python 3.12)\n"
          ]
        }
      ],
      "source": [
        "# !pip --version\n",
        "\n",
        "import numpy as np\n",
        "import pandas as pd"
      ]
    },
    {
      "cell_type": "code",
      "source": [
        "l1 = [-17, \"99\", 2.9, 0, 55]\n",
        "\n",
        "# 함수 사용\n",
        "# a1 = np.array([-17, 99, 2, 0, 55])\n",
        "a1 = np.array([-17, \"99\", 2.9, 0, 55]) # 모두 문자열으로 변환됨\n",
        "a2 = np.ones(5, dtype=np.int64)\n",
        "a3 = np.zeros(4, dtype=np.int64)\n",
        "\n",
        "# shape는 numpy의 속성\n",
        "print(l1, type(l1))\n",
        "print(a1, type(a1), a1.shape)\n",
        "print(a2, type(a2), a2.shape)\n",
        "print(a3, type(a3), a3.shape)"
      ],
      "metadata": {
        "colab": {
          "base_uri": "https://localhost:8080/"
        },
        "id": "2-QPj6Y6VpOk",
        "outputId": "72fabc85-44e7-4ffd-d832-a7f5b125e3ac"
      },
      "execution_count": 13,
      "outputs": [
        {
          "output_type": "stream",
          "name": "stdout",
          "text": [
            "[-17, '99', 2.9, 0, 55] <class 'list'>\n",
            "['-17' '99' '2.9' '0' '55'] <class 'numpy.ndarray'> (5,)\n",
            "[1 1 1 1 1] <class 'numpy.ndarray'> (5,)\n",
            "[0 0 0 0] <class 'numpy.ndarray'> (4,)\n"
          ]
        }
      ]
    },
    {
      "cell_type": "code",
      "source": [
        "df1 = pd.DataFrame(\n",
        "    [[10, 7, 91],\n",
        "     [22, -17, 4]],\n",
        "    index=[1, 2], columns=['python', 'java', 'php']\n",
        ")\n",
        "print(df1)\n",
        "\n",
        "# columns값 변경\n",
        "df1 = df1.rename(columns={'python' : 'pyt', 'java' : 'jav', 'php' : 'php'})\n",
        "print(df1)\n",
        "\n",
        "# -17을 17로 변경, 91을 19로 변경\n",
        "print(df1.iloc[1, 1])\n",
        "# df1.iloc[1,1] = 17 #iloc : 인덱스 기반\n",
        "# df1.iloc[0,2] = 19\n",
        "df1.loc[2, 'jav'] = 17 #loc : 라벨 기반\n",
        "df1.loc[1, 'php'] = 19\n",
        "print(df1)\n"
      ],
      "metadata": {
        "colab": {
          "base_uri": "https://localhost:8080/"
        },
        "id": "Nmorm9CIdX8M",
        "outputId": "ad725f56-a07a-4b0c-b092-3af5d6a0709b"
      },
      "execution_count": 23,
      "outputs": [
        {
          "output_type": "stream",
          "name": "stdout",
          "text": [
            "   python  java  php\n",
            "1      10     7   91\n",
            "2      22   -17    4\n",
            "   pyt  jav  php\n",
            "1   10    7   91\n",
            "2   22  -17    4\n",
            "-17\n",
            "   pyt  jav  php\n",
            "1   10    7   19\n",
            "2   22   17    4\n"
          ]
        }
      ]
    },
    {
      "cell_type": "code",
      "source": [
        "import seaborn as sns\n",
        "\n",
        "titanic = sns.load_dataset('titanic') #seaborn에서 titanic 데이터를 가져옴\n",
        "#print(titanic.info()) # 891보다 적은 건 누락이 있는 것\n",
        "# print(titanic.tail()) # head() : 상위 5개를 보여줌 / head(3) : 상위 3개를 보여줌 / tail() : 하위 5개를 보여줌\n",
        "# NaN : 결측치, 기록이 누락된 것\n",
        "print(titanic.query('age >= 70')) #나이가 70세 이상인 것만 출력"
      ],
      "metadata": {
        "colab": {
          "base_uri": "https://localhost:8080/"
        },
        "id": "JkzZaN25iKAS",
        "outputId": "253818c8-64de-4fea-8f28-9dc8b0f94cc3"
      },
      "execution_count": 30,
      "outputs": [
        {
          "output_type": "stream",
          "name": "stdout",
          "text": [
            "     survived  pclass   sex   age  sibsp  parch     fare embarked   class  \\\n",
            "96          0       1  male  71.0      0      0  34.6542        C   First   \n",
            "116         0       3  male  70.5      0      0   7.7500        Q   Third   \n",
            "493         0       1  male  71.0      0      0  49.5042        C   First   \n",
            "630         1       1  male  80.0      0      0  30.0000        S   First   \n",
            "672         0       2  male  70.0      0      0  10.5000        S  Second   \n",
            "745         0       1  male  70.0      1      1  71.0000        S   First   \n",
            "851         0       3  male  74.0      0      0   7.7750        S   Third   \n",
            "\n",
            "     who  adult_male deck  embark_town alive  alone  \n",
            "96   man        True    A    Cherbourg    no   True  \n",
            "116  man        True  NaN   Queenstown    no   True  \n",
            "493  man        True  NaN    Cherbourg    no   True  \n",
            "630  man        True    A  Southampton   yes   True  \n",
            "672  man        True  NaN  Southampton    no   True  \n",
            "745  man        True    B  Southampton    no  False  \n",
            "851  man        True  NaN  Southampton    no   True  \n"
          ]
        }
      ]
    }
  ]
}