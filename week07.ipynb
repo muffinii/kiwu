{
  "nbformat": 4,
  "nbformat_minor": 0,
  "metadata": {
    "colab": {
      "provenance": []
    },
    "kernelspec": {
      "name": "python3",
      "display_name": "Python 3"
    },
    "language_info": {
      "name": "python"
    }
  },
  "cells": [
    {
      "cell_type": "code",
      "execution_count": 2,
      "metadata": {
        "colab": {
          "base_uri": "https://localhost:8080/"
        },
        "id": "YboTIcqvUl6G",
        "outputId": "bdf19e0d-1dcb-41ad-94a7-cfdcc6965a34"
      },
      "outputs": [
        {
          "output_type": "stream",
          "name": "stdout",
          "text": [
            "pip 24.1.2 from /usr/local/lib/python3.12/dist-packages/pip (python 3.12)\n"
          ]
        }
      ],
      "source": [
        "!pip --version"
      ]
    },
    {
      "cell_type": "code",
      "source": [
        "import numpy as np\n",
        "import pandas as pd\n",
        "\n",
        "l1 = [-17, \"99\", 2.9, 0, 55]\n",
        "\n",
        "# 함수 사용\n",
        "# a1 = np.array([-17, 99, 2, 0, 55])\n",
        "a1 = np.array([-17, \"99\", 2.9, 0, 55]) # 모두 문자열으로 변환됨\n",
        "a2 = np.ones(5, dtype=np.int64)\n",
        "a3 = np.zeros(4, dtype=np.int64)\n",
        "\n",
        "# shape는 numpy의 속성\n",
        "print(l1, type(l1))\n",
        "print(a1, type(a1), a1.shape)\n",
        "print(a2, type(a2), a2.shape)\n",
        "print(a3, type(a3), a3.shape)"
      ],
      "metadata": {
        "colab": {
          "base_uri": "https://localhost:8080/"
        },
        "id": "2-QPj6Y6VpOk",
        "outputId": "72fabc85-44e7-4ffd-d832-a7f5b125e3ac"
      },
      "execution_count": 13,
      "outputs": [
        {
          "output_type": "stream",
          "name": "stdout",
          "text": [
            "[-17, '99', 2.9, 0, 55] <class 'list'>\n",
            "['-17' '99' '2.9' '0' '55'] <class 'numpy.ndarray'> (5,)\n",
            "[1 1 1 1 1] <class 'numpy.ndarray'> (5,)\n",
            "[0 0 0 0] <class 'numpy.ndarray'> (4,)\n"
          ]
        }
      ]
    }
  ]
}